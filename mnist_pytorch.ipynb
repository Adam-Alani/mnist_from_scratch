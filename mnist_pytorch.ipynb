{
 "cells": [
  {
   "cell_type": "markdown",
   "source": [
    "We load in the MNIST dataset and split it into training and test sets. We also normalize the data.\n",
    "\n",
    "Since I'm writing this on an M1 Laptop, I also enable GPU acceleration."
   ],
   "metadata": {
    "collapsed": false,
    "pycharm": {
     "name": "#%% md\n"
    }
   }
  },
  {
   "cell_type": "code",
   "execution_count": 11,
   "outputs": [
    {
     "name": "stdout",
     "output_type": "stream",
     "text": [
      "Using MPS\n"
     ]
    }
   ],
   "source": [
    "import torch\n",
    "import torchvision\n",
    "import torchvision.datasets as datasets\n",
    "from torch.utils.data import DataLoader\n",
    "\n",
    "if (torch.backends.mps.is_available() and torch.backends.mps.is_built()):\n",
    "    device = torch.device(\"mps\")\n",
    "    kwargs = {'num_workers': 4, 'pin_memory': True}\n",
    "    print(\"Using MPS\")\n",
    "else:\n",
    "    device = torch.device(\"cpu\")\n",
    "    kwargs = {}\n",
    "    print(\"Using CPU\")\n",
    "device = torch.device(\"cpu\")\n",
    "\n",
    "mnist_train = datasets.MNIST(root='./data', train=True, download=True, transform=torchvision.transforms.Compose([\n",
    "    torchvision.transforms.ToTensor(),\n",
    "    torchvision.transforms.Normalize((0.1307,), (0.3081,))\n",
    "]))\n",
    "\n",
    "mnist_test = datasets.MNIST(root='./data', train=False, download=True, transform=torchvision.transforms.Compose([\n",
    "    torchvision.transforms.ToTensor(),\n",
    "    torchvision.transforms.Normalize((0.1307,), (0.3081,))\n",
    "]))\n",
    "\n",
    "train_loader = torch.utils.data.DataLoader(dataset=mnist_train, batch_size=64, shuffle=True, **kwargs)\n",
    "\n",
    "test_loader = torch.utils.data.DataLoader(dataset=mnist_test, batch_size=100, shuffle=True, **kwargs)\n",
    "\n",
    "n_epochs = 3\n",
    "\n"
   ],
   "metadata": {
    "collapsed": false,
    "pycharm": {
     "name": "#%%\n"
    }
   }
  },
  {
   "cell_type": "code",
   "execution_count": 12,
   "outputs": [
    {
     "name": "stdout",
     "output_type": "stream",
     "text": [
      "torch.Size([64, 1, 28, 28])\n"
     ]
    },
    {
     "data": {
      "text/plain": "<Figure size 640x480 with 6 Axes>",
      "image/png": "[encoded data removed]"
     },
     "metadata": {},
     "output_type": "display_data"
    }
   ],
   "source": [
    "import matplotlib.pyplot as plt\n",
    "\n",
    "examples = enumerate(train_loader)\n",
    "batch_idx, (example_data, example_targets) = next(examples)\n",
    "\n",
    "fig = plt.figure()\n",
    "for i in range(6):\n",
    "    plt.subplot(2,3,i+1)\n",
    "    plt.tight_layout()\n",
    "    plt.imshow(example_data[i][0])\n",
    "    plt.title(\"Ground Truth: {}\".format(example_targets[i]))\n",
    "    plt.xticks([])\n",
    "    plt.yticks([])\n",
    "print(example_data.shape)"
   ],
   "metadata": {
    "collapsed": false,
    "pycharm": {
     "name": "#%%\n"
    }
   }
  },
  {
   "cell_type": "markdown",
   "source": [
    "We create a simple CNN with 2 convolutional layers and 2 fully connected layers. We use ReLU as the activation function and stochastic gradient descent as the optimizer.\n",
    "This provides a basic starting point for image classification."
   ],
   "metadata": {
    "collapsed": false,
    "pycharm": {
     "name": "#%% md\n"
    }
   }
  },
  {
   "cell_type": "code",
   "execution_count": 30,
   "outputs": [],
   "source": [
    "import torch.nn as nn\n",
    "\n",
    "class NeuralNetwork(nn.Module):\n",
    "    def __init__(self):\n",
    "        super(NeuralNetwork, self).__init__()\n",
    "        self.layer1 = nn.Conv2d(1, 10, kernel_size=5)\n",
    "        self.pool = nn.MaxPool2d(2, 2)\n",
    "        self.layer2 = nn.Conv2d(10, 20, kernel_size=5)\n",
    "        self.layer3 = nn.Linear(28*28, 120)\n",
    "        self.layer4 = nn.Linear(120, 50)\n",
    "        self.layer5 = nn.Linear(50, 10)\n",
    "        self.relu = nn.ReLU()\n",
    "        self.softmax = nn.LogSoftmax(dim=1)\n",
    "\n",
    "    def forward(self, x):\n",
    "        x = torch.flatten(x, 1)\n",
    "        x = self.relu(self.layer3(x))\n",
    "        x = self.relu(self.layer4(x))\n",
    "        x = self.softmax(self.layer5(x))\n",
    "        return x\n",
    "\n",
    "model = NeuralNetwork().to(device)\n",
    "optimizer = torch.optim.SGD(model.parameters(), lr=0.01, momentum=0.5)"
   ],
   "metadata": {
    "collapsed": false,
    "pycharm": {
     "name": "#%%\n"
    }
   }
  },
  {
   "cell_type": "code",
   "execution_count": 37,
   "outputs": [],
   "source": [
    "train_losses = []\n",
    "train_counter = []\n",
    "\n",
    "def train(epoch):\n",
    "    model.train()\n",
    "    running_loss = 0.0\n",
    "    for i, (data,target) in enumerate(train_loader):\n",
    "\n",
    "        data = data.to(device)\n",
    "        target = target.to(device)\n",
    "\n",
    "        optimizer.zero_grad()\n",
    "        outputs = model(data)\n",
    "        loss = nn.CrossEntropyLoss()(outputs, target)\n",
    "        loss.backward()\n",
    "        optimizer.step()\n",
    "\n",
    "        running_loss += loss.item()\n",
    "        if i % 10 == 0:\n",
    "            print('Epoch: %d, Batch: %5d, Loss: %.3f' % (epoch + 1, i + 1, running_loss / 100))\n",
    "            running_loss = 0.0\n",
    "            train_losses.append(loss.item())\n",
    "            train_counter.append((i*64) + ((epoch-1)*len(train_loader.dataset)))\n",
    "\n"
   ],
   "metadata": {
    "collapsed": false,
    "pycharm": {
     "name": "#%%\n"
    }
   }
  },
  {
   "cell_type": "code",
   "execution_count": 38,
   "outputs": [],
   "source": [
    "test_losses = []\n",
    "test_counter = [i*len(train_loader.dataset) for i in range(n_epochs + 1)]\n",
    "\n",
    "def test():\n",
    "    model.eval()\n",
    "    correct = 0\n",
    "    loss = 0\n",
    "    with torch.no_grad():\n",
    "        for data, target in test_loader:\n",
    "            data = data.to(device)\n",
    "            target = target.to(device)\n",
    "\n",
    "            output = model(data)\n",
    "            loss += nn.CrossEntropyLoss()(output, target).item()\n",
    "            pred = output.data.max(1, keepdim=True)[1]\n",
    "            correct += pred.eq(target.data.view_as(pred)).sum()\n",
    "    loss /= len(test_loader.dataset)\n",
    "    test_losses.append(loss)\n",
    "    print('\\nTest set: Average loss: {:.4f}, Accuracy: {}/{} ({:.0f}%)\\n'.format(\n",
    "        loss, correct, len(test_loader.dataset),\n",
    "        100. * correct / len(test_loader.dataset)))\n"
   ],
   "metadata": {
    "collapsed": false,
    "pycharm": {
     "name": "#%%\n"
    }
   }
  },
  {
   "cell_type": "code",
   "execution_count": 39,
   "outputs": [
    {
     "name": "stdout",
     "output_type": "stream",
     "text": [
      "\n",
      "Test set: Average loss: 0.0016, Accuracy: 9519/10000 (95%)\n",
      "\n",
      "Epoch: 2, Batch:     1, Loss: 0.001\n",
      "Epoch: 2, Batch:    11, Loss: 0.013\n",
      "Epoch: 2, Batch:    21, Loss: 0.017\n",
      "Epoch: 2, Batch:    31, Loss: 0.019\n",
      "Epoch: 2, Batch:    41, Loss: 0.015\n",
      "Epoch: 2, Batch:    51, Loss: 0.014\n",
      "Epoch: 2, Batch:    61, Loss: 0.022\n",
      "Epoch: 2, Batch:    71, Loss: 0.015\n",
      "Epoch: 2, Batch:    81, Loss: 0.013\n",
      "Epoch: 2, Batch:    91, Loss: 0.017\n",
      "Epoch: 2, Batch:   101, Loss: 0.014\n",
      "Epoch: 2, Batch:   111, Loss: 0.019\n",
      "Epoch: 2, Batch:   121, Loss: 0.014\n",
      "Epoch: 2, Batch:   131, Loss: 0.015\n",
      "Epoch: 2, Batch:   141, Loss: 0.012\n",
      "Epoch: 2, Batch:   151, Loss: 0.016\n",
      "Epoch: 2, Batch:   161, Loss: 0.013\n",
      "Epoch: 2, Batch:   171, Loss: 0.018\n",
      "Epoch: 2, Batch:   181, Loss: 0.014\n",
      "Epoch: 2, Batch:   191, Loss: 0.017\n",
      "Epoch: 2, Batch:   201, Loss: 0.017\n",
      "Epoch: 2, Batch:   211, Loss: 0.017\n",
      "Epoch: 2, Batch:   221, Loss: 0.011\n",
      "Epoch: 2, Batch:   231, Loss: 0.014\n",
      "Epoch: 2, Batch:   241, Loss: 0.014\n",
      "Epoch: 2, Batch:   251, Loss: 0.017\n",
      "Epoch: 2, Batch:   261, Loss: 0.015\n",
      "Epoch: 2, Batch:   271, Loss: 0.012\n",
      "Epoch: 2, Batch:   281, Loss: 0.017\n",
      "Epoch: 2, Batch:   291, Loss: 0.014\n",
      "Epoch: 2, Batch:   301, Loss: 0.021\n",
      "Epoch: 2, Batch:   311, Loss: 0.019\n",
      "Epoch: 2, Batch:   321, Loss: 0.015\n",
      "Epoch: 2, Batch:   331, Loss: 0.019\n",
      "Epoch: 2, Batch:   341, Loss: 0.015\n",
      "Epoch: 2, Batch:   351, Loss: 0.016\n",
      "Epoch: 2, Batch:   361, Loss: 0.015\n",
      "Epoch: 2, Batch:   371, Loss: 0.016\n",
      "Epoch: 2, Batch:   381, Loss: 0.013\n",
      "Epoch: 2, Batch:   391, Loss: 0.016\n",
      "Epoch: 2, Batch:   401, Loss: 0.017\n",
      "Epoch: 2, Batch:   411, Loss: 0.014\n",
      "Epoch: 2, Batch:   421, Loss: 0.013\n",
      "Epoch: 2, Batch:   431, Loss: 0.018\n",
      "Epoch: 2, Batch:   441, Loss: 0.015\n",
      "Epoch: 2, Batch:   451, Loss: 0.014\n",
      "Epoch: 2, Batch:   461, Loss: 0.016\n",
      "Epoch: 2, Batch:   471, Loss: 0.015\n",
      "Epoch: 2, Batch:   481, Loss: 0.016\n",
      "Epoch: 2, Batch:   491, Loss: 0.020\n",
      "Epoch: 2, Batch:   501, Loss: 0.015\n",
      "Epoch: 2, Batch:   511, Loss: 0.014\n",
      "Epoch: 2, Batch:   521, Loss: 0.014\n",
      "Epoch: 2, Batch:   531, Loss: 0.014\n",
      "Epoch: 2, Batch:   541, Loss: 0.012\n",
      "Epoch: 2, Batch:   551, Loss: 0.013\n",
      "Epoch: 2, Batch:   561, Loss: 0.014\n",
      "Epoch: 2, Batch:   571, Loss: 0.015\n",
      "Epoch: 2, Batch:   581, Loss: 0.018\n",
      "Epoch: 2, Batch:   591, Loss: 0.017\n",
      "Epoch: 2, Batch:   601, Loss: 0.014\n",
      "Epoch: 2, Batch:   611, Loss: 0.017\n",
      "Epoch: 2, Batch:   621, Loss: 0.015\n",
      "Epoch: 2, Batch:   631, Loss: 0.013\n",
      "Epoch: 2, Batch:   641, Loss: 0.014\n",
      "Epoch: 2, Batch:   651, Loss: 0.016\n",
      "Epoch: 2, Batch:   661, Loss: 0.013\n",
      "Epoch: 2, Batch:   671, Loss: 0.015\n",
      "Epoch: 2, Batch:   681, Loss: 0.012\n",
      "Epoch: 2, Batch:   691, Loss: 0.016\n",
      "Epoch: 2, Batch:   701, Loss: 0.017\n",
      "Epoch: 2, Batch:   711, Loss: 0.017\n",
      "Epoch: 2, Batch:   721, Loss: 0.011\n",
      "Epoch: 2, Batch:   731, Loss: 0.017\n",
      "Epoch: 2, Batch:   741, Loss: 0.015\n",
      "Epoch: 2, Batch:   751, Loss: 0.016\n",
      "Epoch: 2, Batch:   761, Loss: 0.012\n",
      "Epoch: 2, Batch:   771, Loss: 0.015\n",
      "Epoch: 2, Batch:   781, Loss: 0.020\n",
      "Epoch: 2, Batch:   791, Loss: 0.012\n",
      "Epoch: 2, Batch:   801, Loss: 0.016\n",
      "Epoch: 2, Batch:   811, Loss: 0.015\n",
      "Epoch: 2, Batch:   821, Loss: 0.015\n",
      "Epoch: 2, Batch:   831, Loss: 0.014\n",
      "Epoch: 2, Batch:   841, Loss: 0.016\n",
      "Epoch: 2, Batch:   851, Loss: 0.016\n",
      "Epoch: 2, Batch:   861, Loss: 0.010\n",
      "Epoch: 2, Batch:   871, Loss: 0.014\n",
      "Epoch: 2, Batch:   881, Loss: 0.012\n",
      "Epoch: 2, Batch:   891, Loss: 0.019\n",
      "Epoch: 2, Batch:   901, Loss: 0.015\n",
      "Epoch: 2, Batch:   911, Loss: 0.013\n",
      "Epoch: 2, Batch:   921, Loss: 0.010\n",
      "Epoch: 2, Batch:   931, Loss: 0.011\n",
      "\n",
      "Test set: Average loss: 0.0014, Accuracy: 9583/10000 (96%)\n",
      "\n",
      "Epoch: 3, Batch:     1, Loss: 0.002\n",
      "Epoch: 3, Batch:    11, Loss: 0.018\n",
      "Epoch: 3, Batch:    21, Loss: 0.015\n",
      "Epoch: 3, Batch:    31, Loss: 0.010\n",
      "Epoch: 3, Batch:    41, Loss: 0.015\n",
      "Epoch: 3, Batch:    51, Loss: 0.014\n",
      "Epoch: 3, Batch:    61, Loss: 0.010\n",
      "Epoch: 3, Batch:    71, Loss: 0.013\n",
      "Epoch: 3, Batch:    81, Loss: 0.013\n",
      "Epoch: 3, Batch:    91, Loss: 0.011\n",
      "Epoch: 3, Batch:   101, Loss: 0.012\n",
      "Epoch: 3, Batch:   111, Loss: 0.020\n",
      "Epoch: 3, Batch:   121, Loss: 0.010\n",
      "Epoch: 3, Batch:   131, Loss: 0.014\n",
      "Epoch: 3, Batch:   141, Loss: 0.011\n",
      "Epoch: 3, Batch:   151, Loss: 0.016\n",
      "Epoch: 3, Batch:   161, Loss: 0.015\n",
      "Epoch: 3, Batch:   171, Loss: 0.011\n",
      "Epoch: 3, Batch:   181, Loss: 0.011\n",
      "Epoch: 3, Batch:   191, Loss: 0.014\n",
      "Epoch: 3, Batch:   201, Loss: 0.019\n",
      "Epoch: 3, Batch:   211, Loss: 0.011\n",
      "Epoch: 3, Batch:   221, Loss: 0.013\n",
      "Epoch: 3, Batch:   231, Loss: 0.012\n",
      "Epoch: 3, Batch:   241, Loss: 0.013\n",
      "Epoch: 3, Batch:   251, Loss: 0.013\n",
      "Epoch: 3, Batch:   261, Loss: 0.016\n",
      "Epoch: 3, Batch:   271, Loss: 0.014\n",
      "Epoch: 3, Batch:   281, Loss: 0.015\n",
      "Epoch: 3, Batch:   291, Loss: 0.011\n",
      "Epoch: 3, Batch:   301, Loss: 0.010\n",
      "Epoch: 3, Batch:   311, Loss: 0.010\n",
      "Epoch: 3, Batch:   321, Loss: 0.012\n",
      "Epoch: 3, Batch:   331, Loss: 0.013\n",
      "Epoch: 3, Batch:   341, Loss: 0.013\n",
      "Epoch: 3, Batch:   351, Loss: 0.014\n",
      "Epoch: 3, Batch:   361, Loss: 0.016\n",
      "Epoch: 3, Batch:   371, Loss: 0.010\n",
      "Epoch: 3, Batch:   381, Loss: 0.011\n",
      "Epoch: 3, Batch:   391, Loss: 0.015\n",
      "Epoch: 3, Batch:   401, Loss: 0.009\n",
      "Epoch: 3, Batch:   411, Loss: 0.010\n",
      "Epoch: 3, Batch:   421, Loss: 0.010\n",
      "Epoch: 3, Batch:   431, Loss: 0.012\n",
      "Epoch: 3, Batch:   441, Loss: 0.013\n",
      "Epoch: 3, Batch:   451, Loss: 0.013\n",
      "Epoch: 3, Batch:   461, Loss: 0.015\n",
      "Epoch: 3, Batch:   471, Loss: 0.013\n",
      "Epoch: 3, Batch:   481, Loss: 0.011\n",
      "Epoch: 3, Batch:   491, Loss: 0.012\n",
      "Epoch: 3, Batch:   501, Loss: 0.014\n",
      "Epoch: 3, Batch:   511, Loss: 0.013\n",
      "Epoch: 3, Batch:   521, Loss: 0.015\n",
      "Epoch: 3, Batch:   531, Loss: 0.013\n",
      "Epoch: 3, Batch:   541, Loss: 0.011\n",
      "Epoch: 3, Batch:   551, Loss: 0.013\n",
      "Epoch: 3, Batch:   561, Loss: 0.013\n",
      "Epoch: 3, Batch:   571, Loss: 0.014\n",
      "Epoch: 3, Batch:   581, Loss: 0.013\n",
      "Epoch: 3, Batch:   591, Loss: 0.012\n",
      "Epoch: 3, Batch:   601, Loss: 0.014\n",
      "Epoch: 3, Batch:   611, Loss: 0.013\n",
      "Epoch: 3, Batch:   621, Loss: 0.014\n",
      "Epoch: 3, Batch:   631, Loss: 0.011\n",
      "Epoch: 3, Batch:   641, Loss: 0.009\n",
      "Epoch: 3, Batch:   651, Loss: 0.015\n",
      "Epoch: 3, Batch:   661, Loss: 0.012\n",
      "Epoch: 3, Batch:   671, Loss: 0.014\n",
      "Epoch: 3, Batch:   681, Loss: 0.015\n",
      "Epoch: 3, Batch:   691, Loss: 0.013\n",
      "Epoch: 3, Batch:   701, Loss: 0.012\n",
      "Epoch: 3, Batch:   711, Loss: 0.013\n",
      "Epoch: 3, Batch:   721, Loss: 0.010\n",
      "Epoch: 3, Batch:   731, Loss: 0.014\n",
      "Epoch: 3, Batch:   741, Loss: 0.012\n",
      "Epoch: 3, Batch:   751, Loss: 0.012\n",
      "Epoch: 3, Batch:   761, Loss: 0.010\n",
      "Epoch: 3, Batch:   771, Loss: 0.012\n",
      "Epoch: 3, Batch:   781, Loss: 0.008\n",
      "Epoch: 3, Batch:   791, Loss: 0.014\n",
      "Epoch: 3, Batch:   801, Loss: 0.012\n",
      "Epoch: 3, Batch:   811, Loss: 0.010\n",
      "Epoch: 3, Batch:   821, Loss: 0.009\n",
      "Epoch: 3, Batch:   831, Loss: 0.014\n",
      "Epoch: 3, Batch:   841, Loss: 0.014\n",
      "Epoch: 3, Batch:   851, Loss: 0.014\n",
      "Epoch: 3, Batch:   861, Loss: 0.011\n",
      "Epoch: 3, Batch:   871, Loss: 0.012\n",
      "Epoch: 3, Batch:   881, Loss: 0.012\n",
      "Epoch: 3, Batch:   891, Loss: 0.014\n",
      "Epoch: 3, Batch:   901, Loss: 0.011\n",
      "Epoch: 3, Batch:   911, Loss: 0.012\n",
      "Epoch: 3, Batch:   921, Loss: 0.011\n",
      "Epoch: 3, Batch:   931, Loss: 0.013\n",
      "\n",
      "Test set: Average loss: 0.0012, Accuracy: 9627/10000 (96%)\n",
      "\n",
      "Epoch: 4, Batch:     1, Loss: 0.001\n",
      "Epoch: 4, Batch:    11, Loss: 0.011\n",
      "Epoch: 4, Batch:    21, Loss: 0.018\n",
      "Epoch: 4, Batch:    31, Loss: 0.014\n",
      "Epoch: 4, Batch:    41, Loss: 0.012\n",
      "Epoch: 4, Batch:    51, Loss: 0.011\n",
      "Epoch: 4, Batch:    61, Loss: 0.012\n",
      "Epoch: 4, Batch:    71, Loss: 0.008\n",
      "Epoch: 4, Batch:    81, Loss: 0.013\n",
      "Epoch: 4, Batch:    91, Loss: 0.012\n",
      "Epoch: 4, Batch:   101, Loss: 0.009\n",
      "Epoch: 4, Batch:   111, Loss: 0.012\n",
      "Epoch: 4, Batch:   121, Loss: 0.009\n",
      "Epoch: 4, Batch:   131, Loss: 0.011\n",
      "Epoch: 4, Batch:   141, Loss: 0.011\n",
      "Epoch: 4, Batch:   151, Loss: 0.009\n",
      "Epoch: 4, Batch:   161, Loss: 0.011\n",
      "Epoch: 4, Batch:   171, Loss: 0.011\n",
      "Epoch: 4, Batch:   181, Loss: 0.008\n",
      "Epoch: 4, Batch:   191, Loss: 0.013\n",
      "Epoch: 4, Batch:   201, Loss: 0.011\n",
      "Epoch: 4, Batch:   211, Loss: 0.010\n",
      "Epoch: 4, Batch:   221, Loss: 0.010\n",
      "Epoch: 4, Batch:   231, Loss: 0.011\n",
      "Epoch: 4, Batch:   241, Loss: 0.010\n",
      "Epoch: 4, Batch:   251, Loss: 0.015\n",
      "Epoch: 4, Batch:   261, Loss: 0.010\n",
      "Epoch: 4, Batch:   271, Loss: 0.015\n",
      "Epoch: 4, Batch:   281, Loss: 0.010\n",
      "Epoch: 4, Batch:   291, Loss: 0.007\n",
      "Epoch: 4, Batch:   301, Loss: 0.012\n",
      "Epoch: 4, Batch:   311, Loss: 0.009\n",
      "Epoch: 4, Batch:   321, Loss: 0.011\n",
      "Epoch: 4, Batch:   331, Loss: 0.012\n",
      "Epoch: 4, Batch:   341, Loss: 0.011\n",
      "Epoch: 4, Batch:   351, Loss: 0.012\n",
      "Epoch: 4, Batch:   361, Loss: 0.009\n",
      "Epoch: 4, Batch:   371, Loss: 0.010\n",
      "Epoch: 4, Batch:   381, Loss: 0.013\n",
      "Epoch: 4, Batch:   391, Loss: 0.011\n",
      "Epoch: 4, Batch:   401, Loss: 0.010\n",
      "Epoch: 4, Batch:   411, Loss: 0.009\n",
      "Epoch: 4, Batch:   421, Loss: 0.012\n",
      "Epoch: 4, Batch:   431, Loss: 0.012\n",
      "Epoch: 4, Batch:   441, Loss: 0.012\n",
      "Epoch: 4, Batch:   451, Loss: 0.010\n",
      "Epoch: 4, Batch:   461, Loss: 0.010\n",
      "Epoch: 4, Batch:   471, Loss: 0.014\n",
      "Epoch: 4, Batch:   481, Loss: 0.010\n",
      "Epoch: 4, Batch:   491, Loss: 0.013\n",
      "Epoch: 4, Batch:   501, Loss: 0.010\n",
      "Epoch: 4, Batch:   511, Loss: 0.011\n",
      "Epoch: 4, Batch:   521, Loss: 0.010\n",
      "Epoch: 4, Batch:   531, Loss: 0.006\n",
      "Epoch: 4, Batch:   541, Loss: 0.011\n",
      "Epoch: 4, Batch:   551, Loss: 0.011\n",
      "Epoch: 4, Batch:   561, Loss: 0.009\n",
      "Epoch: 4, Batch:   571, Loss: 0.011\n",
      "Epoch: 4, Batch:   581, Loss: 0.011\n",
      "Epoch: 4, Batch:   591, Loss: 0.011\n",
      "Epoch: 4, Batch:   601, Loss: 0.011\n",
      "Epoch: 4, Batch:   611, Loss: 0.007\n",
      "Epoch: 4, Batch:   621, Loss: 0.012\n",
      "Epoch: 4, Batch:   631, Loss: 0.009\n",
      "Epoch: 4, Batch:   641, Loss: 0.011\n",
      "Epoch: 4, Batch:   651, Loss: 0.014\n",
      "Epoch: 4, Batch:   661, Loss: 0.009\n",
      "Epoch: 4, Batch:   671, Loss: 0.010\n",
      "Epoch: 4, Batch:   681, Loss: 0.011\n",
      "Epoch: 4, Batch:   691, Loss: 0.008\n",
      "Epoch: 4, Batch:   701, Loss: 0.012\n",
      "Epoch: 4, Batch:   711, Loss: 0.009\n",
      "Epoch: 4, Batch:   721, Loss: 0.010\n",
      "Epoch: 4, Batch:   731, Loss: 0.008\n",
      "Epoch: 4, Batch:   741, Loss: 0.009\n",
      "Epoch: 4, Batch:   751, Loss: 0.009\n",
      "Epoch: 4, Batch:   761, Loss: 0.011\n",
      "Epoch: 4, Batch:   771, Loss: 0.011\n",
      "Epoch: 4, Batch:   781, Loss: 0.014\n",
      "Epoch: 4, Batch:   791, Loss: 0.012\n",
      "Epoch: 4, Batch:   801, Loss: 0.007\n",
      "Epoch: 4, Batch:   811, Loss: 0.010\n",
      "Epoch: 4, Batch:   821, Loss: 0.007\n",
      "Epoch: 4, Batch:   831, Loss: 0.008\n",
      "Epoch: 4, Batch:   841, Loss: 0.013\n",
      "Epoch: 4, Batch:   851, Loss: 0.011\n",
      "Epoch: 4, Batch:   861, Loss: 0.013\n",
      "Epoch: 4, Batch:   871, Loss: 0.011\n",
      "Epoch: 4, Batch:   881, Loss: 0.011\n",
      "Epoch: 4, Batch:   891, Loss: 0.009\n",
      "Epoch: 4, Batch:   901, Loss: 0.008\n",
      "Epoch: 4, Batch:   911, Loss: 0.013\n",
      "Epoch: 4, Batch:   921, Loss: 0.010\n",
      "Epoch: 4, Batch:   931, Loss: 0.010\n",
      "\n",
      "Test set: Average loss: 0.0011, Accuracy: 9674/10000 (97%)\n",
      "\n",
      "Done\n"
     ]
    }
   ],
   "source": [
    "test()\n",
    "for epoch in range(1, n_epochs + 1):\n",
    "    train(epoch)\n",
    "    test()\n",
    "print(\"Done\")"
   ],
   "metadata": {
    "collapsed": false,
    "pycharm": {
     "name": "#%%\n"
    }
   }
  },
  {
   "cell_type": "code",
   "execution_count": 25,
   "outputs": [
    {
     "data": {
      "text/plain": "<matplotlib.legend.Legend at 0x1403295e0>"
     },
     "execution_count": 25,
     "metadata": {},
     "output_type": "execute_result"
    },
    {
     "data": {
      "text/plain": "<Figure size 640x480 with 1 Axes>",
      "image/png": "[encoded data removed]"
     },
     "metadata": {},
     "output_type": "display_data"
    }
   ],
   "source": [
    "fig = plt.figure()\n",
    "plt.plot(train_counter, train_losses, color='blue')\n",
    "plt.scatter(test_counter, test_losses, color='red')\n",
    "plt.legend(['Train Loss', 'Test Loss'], loc='upper right')\n"
   ],
   "metadata": {
    "collapsed": false,
    "pycharm": {
     "name": "#%%\n"
    }
   }
  },
  {
   "cell_type": "code",
   "execution_count": 24,
   "outputs": [
    {
     "data": {
      "text/plain": "<Figure size 640x480 with 6 Axes>",
      "image/png": "[encoded data removed]"
     },
     "metadata": {},
     "output_type": "display_data"
    }
   ],
   "source": [
    "def read_numbers():\n",
    "    with torch.no_grad():\n",
    "        output = model(example_data.to(device))\n",
    "        for i in range(6):\n",
    "              plt.subplot(2,3,i+1)\n",
    "              plt.tight_layout()\n",
    "              plt.imshow(example_data[i][0])\n",
    "              plt.title(\"Prediction: {}\".format(\n",
    "                output.data.max(1, keepdim=True)[1][i].item()))\n",
    "              plt.xticks([])\n",
    "              plt.yticks([])\n",
    "\n",
    "read_numbers()"
   ],
   "metadata": {
    "collapsed": false,
    "pycharm": {
     "name": "#%%\n"
    }
   }
  },
  {
   "cell_type": "code",
   "execution_count": null,
   "outputs": [],
   "source": [],
   "metadata": {
    "collapsed": false,
    "pycharm": {
     "name": "#%%\n"
    }
   }
  }
 ],
 "metadata": {
  "kernelspec": {
   "display_name": "Python 3",
   "language": "python",
   "name": "python3"
  },
  "language_info": {
   "codemirror_mode": {
    "name": "ipython",
    "version": 2
   },
   "file_extension": ".py",
   "mimetype": "text/x-python",
   "name": "python",
   "nbconvert_exporter": "python",
   "pygments_lexer": "ipython2",
   "version": "2.7.6"
  }
 },
 "nbformat": 4,
 "nbformat_minor": 0
}